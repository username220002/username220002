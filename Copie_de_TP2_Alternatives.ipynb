{
  "cells": [
    {
      "cell_type": "markdown",
      "metadata": {
        "id": "M94amoBVVYOC"
      },
      "source": [
        "# TP n°2 : Alternatives\n",
        "\n"
      ]
    },
    {
      "cell_type": "markdown",
      "metadata": {
        "id": "J-GBaH2jVYOL"
      },
      "source": [
        "___________________________________________________________________________\n",
        "## Conditions sur un entier\n",
        "\n"
      ]
    },
    {
      "cell_type": "markdown",
      "metadata": {
        "id": "j50iaJ2NVYON"
      },
      "source": [
        "Dans cette question, `x` est supposé être un entier. Créer une variable booléenne `cond` (prenant comme valeur `True` ou `False`) qui teste  si `x` est ou bien multiple de 10 ou bien à la fois impair, non multiple de 3 et compris, au sens large, entre 42 et 421. Ainsi `x = 2020` passe le test, `x = 301` aussi, `x = 420` également mais pas `x = 81`.\n",
        "\n"
      ]
    },
    {
      "cell_type": "code",
      "execution_count": null,
      "metadata": {
        "id": "ceAHgZzSVYOO"
      },
      "outputs": [],
      "source": [
        "# Votre code ICI\n"
      ]
    },
    {
      "cell_type": "markdown",
      "metadata": {
        "id": "sLbS4CdUVYOQ"
      },
      "source": [
        "___________________________________________________________________________\n",
        "## Test de la non-égalité de cinq entiers\n",
        "\n"
      ]
    },
    {
      "cell_type": "markdown",
      "metadata": {
        "id": "dbKeRBbiVYOR"
      },
      "source": [
        "On donne cinq entiers a, b, c, d et e. Soit la condition C suivante : *les 5 entiers ne sont pas tous égaux*.  Par exemple\n",
        "\n",
        "\n",
        "- si a=5, b=5, c=5, d=4 et e=4 alors C est True\n",
        "\n",
        "- si a=5, b=5, c=5, d=5 et e=5 alors C est False\n",
        "\n",
        "Ecrire une variable booléenne qui vaut True si la condition C est vraie et False sinon.\n",
        "\n"
      ]
    },
    {
      "cell_type": "code",
      "execution_count": null,
      "metadata": {
        "id": "1iNQ9lfzVYOR"
      },
      "outputs": [],
      "source": [
        "# Votre code ICI\n"
      ]
    },
    {
      "cell_type": "markdown",
      "metadata": {
        "id": "uaQK8aLwVYOS"
      },
      "source": [
        "___________________________________________________________________________\n",
        "## Jeu de cartes\n",
        "\n"
      ]
    },
    {
      "cell_type": "markdown",
      "metadata": {
        "id": "xEaKE4caVYOT"
      },
      "source": [
        "On dispose d'un jeu de 52 cartes numérotées de 0 à 51.\n",
        "\n",
        "Proposer deux instructions de type « alternative » qui, compte-tenu du numéro de la carte, précisent respectivement la couleur (pique, cœur, carreau, trèfle dans cet ordre) et la valeur de la carte (1, 2, ..., 10, valet, dame, roi).\n",
        "\n",
        "Exemples :\n",
        "\n",
        "        5 : 6 de pique\n",
        "        23 : valet de coeur\n",
        "        37 : dame de carreau\n",
        "        44 : 6 de trèfle\n",
        "\n",
        "\n",
        "\n",
        "\n"
      ]
    },
    {
      "cell_type": "code",
      "execution_count": null,
      "metadata": {
        "id": "7ft74INLVYOU"
      },
      "outputs": [],
      "source": [
        "# Votre code ICI\n"
      ]
    },
    {
      "cell_type": "markdown",
      "metadata": {
        "id": "u2N2ayemVYOV"
      },
      "source": [
        "___________________________________________________________________________\n",
        "## Dilemme du prisonnier\n",
        "\n"
      ]
    },
    {
      "cell_type": "markdown",
      "metadata": {
        "id": "SJkkw_fIVYOV"
      },
      "source": [
        "Deux suspects sont arrêtés par la police. Mais les inspecteurs n'ont pas assez de preuves pour les inculper. Ils les interrogent alors séparément en leur faisant la même offre :\n",
        "\n",
        "    Si tu dénonces ton complice et qu'il ne te dénonce pas, tu seras remis en liberté et il écopera de la peine maximale.\n",
        "    Si tu le dénonces et qu'il te dénonce aussi, vous écoperez tous les deux de la moitié de la peine maximale.\n",
        "    Si personne ne se dénonce, vous écoperez tous les deux de la peine minimale.\n",
        "\n",
        "Ce dilemme se résume dans le tableau suivant où chaque case représente la peine obtenue selon le comportement des 2 suspects. Ainsi par exemple (0;max)(0;max)(0;max) signifie que le suspect 1 sera libéré et le suspect 2 aura la peine maximale, (max;0)(max;0)(max;0) que le suspect 1 écopera de la peine maximale et le suspect 2 sera libéré...\n",
        "\n",
        "                2 se tait \t2 dénonce 1\n",
        "    1 se tait \t(min;min) \t(max;0)\n",
        "    1 dénonce 2  (0;max) \t(max/2;max/2)\n",
        "\n",
        "Proposer une instruction de type « alternative » qui détermine la peine encourue par chacun des 2 suspects en fonction de leur comportement.\n"
      ]
    },
    {
      "cell_type": "code",
      "execution_count": null,
      "metadata": {
        "id": "Z5yLUayEVYOW"
      },
      "outputs": [],
      "source": [
        "# Votre code ICI\n"
      ]
    },
    {
      "cell_type": "markdown",
      "metadata": {
        "id": "PfGPyXkMVYOW"
      },
      "source": [
        "___________________________________________________________________________\n",
        "## Ordonner trois entiers\n",
        "\n"
      ]
    },
    {
      "cell_type": "markdown",
      "metadata": {
        "id": "Fbet0CJAVYOX"
      },
      "source": [
        "On donne trois entiers `a`, `b` et `c` et on demande d'écrire un programme qui affiche ces trois entiers dans l'ordre décroissant.\n",
        "\n"
      ]
    },
    {
      "cell_type": "code",
      "execution_count": null,
      "metadata": {
        "id": "UMQw3HSPVYOX"
      },
      "outputs": [],
      "source": [
        "# Votre code ICI\n"
      ]
    },
    {
      "cell_type": "markdown",
      "metadata": {
        "id": "qfpuTknpVYOX"
      },
      "source": [
        "___________________________________________________________________________\n",
        "## Équation du second degré\n",
        "\n"
      ]
    },
    {
      "cell_type": "markdown",
      "metadata": {
        "id": "Blifi5oWVYOX"
      },
      "source": [
        "L'exercice consiste à écrire un code permettant de résoudre dans l'ensemble des réels une équation du second degré $ax^2+bx+c=0$. On supposera que $a,b,c$ sont des entiers et que l'inconnue $x$ est un nombre réel.\n",
        "\n",
        "###Rappels : résolution de l'équation du second degré\n",
        "\n",
        "On rappelle la résolution de l'équation :\n",
        "\n",
        "si a est non nul :\n",
        "\n",
        "On calcule $\\Delta=b^2-4ac$. Il y a alors trois cas :\n",
        "\n",
        "\n",
        "- *1er cas*: $\\Delta>0$. L'équation admet deux solutions réelles, données par les formules $$ x_1= \\frac{-b-\\sqrt\\Delta}{2a}\\quad{et}\\quad x_2=\\frac{-b+\\sqrt\\Delta}{2a}.$$\n",
        "\n",
        "- *2ème cas* : $\\Delta=0$. L'équation admet une seule solution réelle, $x= \\frac{-b}{2a}$, donnée par n'importe laquelle des deux formules du 1er cas.\n",
        "\n",
        "- *3ème cas*  : $\\Delta < 0$. L'équation n'admet aucune solution.\n",
        "\n",
        "si a est nul : résoudre bx + c = 0.\n"
      ]
    },
    {
      "cell_type": "markdown",
      "metadata": {
        "id": "6FlIudZ5VYOY"
      },
      "source": [
        "1) Écrire un code Python qui détermine le nombre de solutions d'une équation du second degré.\n",
        "\n"
      ]
    },
    {
      "cell_type": "code",
      "execution_count": null,
      "metadata": {
        "id": "2jMZVd3dVYOY"
      },
      "outputs": [],
      "source": [
        "# Votre code ICI\n"
      ]
    },
    {
      "cell_type": "markdown",
      "metadata": {
        "id": "YxXxvjaRVYOY"
      },
      "source": [
        "2) Affiner le code précédent pour résoudre complètement dans les réels l'équation $ax^2+bx+c=0$ et afficher les solutions éventuelles sous forme de nombres flottants (et pas de fractions). Tester les trois équations suivantes :\n",
        "\n",
        "Equation|Solutions\n",
        "---|---\n",
        "$6x^2-5x+1=0$|$1/2$ et $1/3$\n",
        "$4x^2-12x+9=0$|$3/2$\n",
        "$6x^2+7x+7=0$|Aucune\n",
        "\n",
        "faites de même si a est nul\n"
      ]
    },
    {
      "cell_type": "code",
      "execution_count": null,
      "metadata": {
        "id": "wRwBms-sVYOZ"
      },
      "outputs": [],
      "source": [
        "# Votre code ICI\n"
      ]
    },
    {
      "cell_type": "markdown",
      "metadata": {
        "id": "2ApU8jozVYOZ"
      },
      "source": [
        "___________________________________________________________________________\n",
        "## Date valide (`if\\elif`)\n",
        "\n"
      ]
    },
    {
      "cell_type": "markdown",
      "metadata": {
        "id": "bsTrewfgVYOZ"
      },
      "source": [
        "On donne une date en utilisant  deux variables `jour` et `mois` deux entiers strictement positifs et on demande d'écrire un booléen `estDateValide` qui dise si la date `jour/mois` définit une date valide du calendrier. Par exemple :\n",
        "\n",
        "Jour, mois|Valide|Explication\n",
        "---|---|---\n",
        "`18, 3`|True|18 mars\n",
        "`31, 12`|True|31 décembre\n",
        "`35, 3`|False|un mois n'a pas 35 jours\n",
        "`31, 11`|False|pas de 31 novembre\n",
        "\n",
        "\n",
        "Pour simplifier, on supposera que le mois de février a 28 jours.\n",
        "\n",
        "Indication : utiliser une condition testant si le mois est en 31, 30 ou 28 jours.\n",
        "\n"
      ]
    },
    {
      "cell_type": "code",
      "execution_count": null,
      "metadata": {
        "id": "e-7OMPWBVYOb"
      },
      "outputs": [],
      "source": [
        "# Votre code ICI\n"
      ]
    },
    {
      "cell_type": "markdown",
      "metadata": {
        "id": "ohI3aogDVYOc"
      },
      "source": [
        "___________________________________________________________________________\n",
        "## Simulation d'une calculatrice\n",
        "\n"
      ]
    },
    {
      "cell_type": "markdown",
      "metadata": {
        "id": "-y_GsI7AVYOc"
      },
      "source": [
        "Écrire un algorithme qui permet, à partir de deux variables réelles a et b et d'une variable contenant un opérateur simple : +, -, *, / , de réaliser l'opération a \"opérateur\" b.\n",
        "\n",
        "Vous afficherez par exemple : 3 * -5 = -15.\n",
        "\n",
        "Votre programme doit bien fonctionner dans tous les cas de figure ...\n",
        "\n"
      ]
    },
    {
      "cell_type": "code",
      "execution_count": null,
      "metadata": {
        "id": "xtkGwA7SVYOc"
      },
      "outputs": [],
      "source": [
        "# Votre code ICI\n"
      ]
    },
    {
      "cell_type": "markdown",
      "metadata": {
        "id": "iRBnWhi5VYOd"
      },
      "source": [
        "___________________________________________________________________________\n",
        "## Arrondir l'heure\n",
        "\n"
      ]
    },
    {
      "cell_type": "markdown",
      "metadata": {
        "id": "Snb00rK6VYOd"
      },
      "source": [
        "1) On donne un entier $n\\geq 0$. Construire une variable `N` valant le multiple de 5 **le plus proche** de $n$. Vous raisonnerez en fonction la valeur du reste de la division de `n` par 5.\n",
        "\n",
        "Par exemple :\n",
        "\n",
        "\n",
        "- si $n=42$ alors $N=40$\n",
        "\n",
        "- si $n=15$ alors $N=15$\n",
        "\n",
        "- si $n=64$ alors $N=65$\n",
        "\n",
        "- si $n=90$ alors $N=90$\n",
        "\n",
        "- si $n=0$ alors $N=0$\n",
        "\n"
      ]
    },
    {
      "cell_type": "code",
      "execution_count": null,
      "metadata": {
        "id": "zyUbzgJuVYOd"
      },
      "outputs": [],
      "source": [
        "# Votre code ICI\n"
      ]
    },
    {
      "cell_type": "markdown",
      "metadata": {
        "id": "_mPN2vEwVYOe"
      },
      "source": [
        "2) Cette question fait appel à la question précédente. Si vous n'avez pas réussi à la résoudre, vous pourrez utiliser le code ci-dessous qui donne le multiple de 5, appelé `m`, le plus proche de l'entier n :\n",
        "\n"
      ]
    },
    {
      "cell_type": "code",
      "execution_count": null,
      "metadata": {
        "id": "eVpyd06nVYOe"
      },
      "outputs": [],
      "source": [
        "m = round(n/5)*5\n"
      ]
    },
    {
      "cell_type": "markdown",
      "metadata": {
        "id": "gP5SCBUrVYOf"
      },
      "source": [
        "Vous allez devoir écrire un code qui  arrondit une heure donnée aux 5 minutes les plus proches. Une heure de la journée sera codée par deux nombres entiers $h$ et $m$, où $h$ est le nombre d'heures ($0\\leq h< 24$) et $m$ le nombre de minutes ($0\\leq  m < 60$). Par exemple, 14 h 05 est codée par $h=14$ et $m=5$ ou encore 4 h sera codée par $h=4$ et $m=0$.\n",
        "\n",
        "On se donne une heure de la journée, représentée par deux nombres entiers $h$ et $m$. Écrire une code qui calcule l'heure arrondie à 5 minutes près. Plus précisément, votre code devra construire deux variables `H` et `M` correspondant à l'heure arrondie. Voici quelques exemples de comportements attendus :\n",
        "\n",
        "    14h 53m -> [14, 55]\n",
        "    18h 31m -> [18, 30]\n",
        "    02h 10m -> [2, 10]\n",
        "    01h 02m -> [1, 0]\n",
        "    09h 58m -> [10, 0]\n",
        "    23h 58m -> [0, 0]\n",
        "    23h 57m -> [23, 55]\n",
        "*On fera attention de ne pas écrire des nombres de minutes ou d'heures avec un zéro initial (comme 02), Python 3 considérant cette syntaxe comme une erreur.*\n",
        "\n"
      ]
    },
    {
      "cell_type": "code",
      "execution_count": null,
      "metadata": {
        "id": "I0hcJbqoVYOf"
      },
      "outputs": [],
      "source": [
        "# Votre code ICI\n"
      ]
    }
  ],
  "metadata": {
    "kernelspec": {
      "display_name": "Python 3",
      "language": "python",
      "name": "python3"
    },
    "language_info": {
      "codemirror_mode": {
        "name": "ipython",
        "version": 3
      },
      "file_extension": ".py",
      "mimetype": "text/x-python",
      "name": "python",
      "nbconvert_exporter": "python",
      "pygments_lexer": "ipython3",
      "version": "3.8.3"
    },
    "colab": {
      "provenance": []
    }
  },
  "nbformat": 4,
  "nbformat_minor": 0
}